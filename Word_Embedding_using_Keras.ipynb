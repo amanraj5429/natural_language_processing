{
  "nbformat": 4,
  "nbformat_minor": 0,
  "metadata": {
    "colab": {
      "name": "Word_Embedding_using_Keras.ipynb",
      "provenance": []
    },
    "kernelspec": {
      "name": "python3",
      "display_name": "Python 3"
    }
  },
  "cells": [
    {
      "cell_type": "markdown",
      "metadata": {
        "id": "d3NaobHs_WXw"
      },
      "source": [
        "**A Detailed Guide to understand the Word Embeddings and Embedding Layer in Keras.**"
      ]
    },
    {
      "cell_type": "markdown",
      "metadata": {
        "id": "RRfTlfWSGlSV"
      },
      "source": [
        "In this notebook I have explained the keras embedding layer. To do so I have created a sample corpus of just 3 documents and that should be sufficient to explain the working of the keras embedding layer.\n",
        "\n",
        "Embeddings are useful in a variety of machine learning applications. Because of the fact I have attached many data sources to the kernel where I fell that embeddings and Keras embedding layer may prove to be useful.\n",
        "\n",
        "Before diving in let us skim through some of the applilcations of the embeddings :\n",
        "\n",
        "\n",
        "\n",
        "1.   The first application that strikes me is in the Collaborative Filtering based Recommender Systems where we have to create the user embeddings and the movie embeddings by decomposing the utility matrix which contains the user-item ratings.\n",
        "\n",
        "\n",
        "2. The second use is in the Natural Language Processing and its related applications whre we have to create the word embeddings for all the words present in the documents of our corpus.\n",
        "\n",
        "\n",
        "Thus the embedding layer in Keras can be used when we want to create the embeddings to embed higher dimensional data into lower dimensional vector space.\n",
        "\n"
      ]
    },
    {
      "cell_type": "markdown",
      "metadata": {
        "id": "xuftyGmKMQ4j"
      },
      "source": [
        "**1. Importing Modules**"
      ]
    },
    {
      "cell_type": "code",
      "metadata": {
        "id": "KGe72_VcMp5l",
        "outputId": "b3da62a2-6468-4685-d4a8-b73e07e9e95e",
        "colab": {
          "base_uri": "https://localhost:8080/",
          "height": 68
        }
      },
      "source": [
        "import nltk\n",
        "nltk.download('stopwords')\n"
      ],
      "execution_count": 2,
      "outputs": [
        {
          "output_type": "stream",
          "text": [
            "[nltk_data] Downloading package stopwords to /root/nltk_data...\n",
            "[nltk_data]   Unzipping corpora/stopwords.zip.\n"
          ],
          "name": "stdout"
        },
        {
          "output_type": "execute_result",
          "data": {
            "text/plain": [
              "True"
            ]
          },
          "metadata": {
            "tags": []
          },
          "execution_count": 2
        }
      ]
    },
    {
      "cell_type": "code",
      "metadata": {
        "id": "bm4GTX2k_REy"
      },
      "source": [
        "# Ignore  the warnings\n",
        "import warnings\n",
        "warnings.filterwarnings('always')\n",
        "warnings.filterwarnings('ignore')\n",
        "\n",
        "# data visualisation and manipulation\n",
        "import numpy as np\n",
        "import pandas as pd\n",
        "import matplotlib.pyplot as plt\n",
        "from matplotlib import style\n",
        "import seaborn as sns\n",
        "#configure\n",
        "# sets matplotlib to inline and displays graphs below the corressponding cell.\n",
        "%matplotlib inline  \n",
        "style.use('fivethirtyeight')\n",
        "sns.set(style='whitegrid',color_codes=True)\n",
        "\n",
        "#nltk\n",
        "import nltk\n",
        "\n",
        "#stop-words\n",
        "from nltk.corpus import stopwords\n",
        "stop_words=set(nltk.corpus.stopwords.words('english'))\n",
        "\n",
        "# tokenizing\n",
        "from nltk import word_tokenize,sent_tokenize\n",
        "\n",
        "#keras\n",
        "import keras\n",
        "from keras.preprocessing.text import one_hot,Tokenizer\n",
        "from keras.preprocessing.sequence import pad_sequences\n",
        "from keras.models import Sequential\n",
        "from keras.layers import Dense , Flatten ,Embedding,Input\n",
        "from keras.models import Model"
      ],
      "execution_count": 3,
      "outputs": []
    },
    {
      "cell_type": "markdown",
      "metadata": {
        "id": "vg3erHwbNUd2"
      },
      "source": [
        "Using TensorFlow backend."
      ]
    },
    {
      "cell_type": "markdown",
      "metadata": {
        "id": "TmfWkLkvNbmE"
      },
      "source": [
        "**CREATING SAMPLE CORPUS OF DOCUMENTS ie TEXTS**"
      ]
    },
    {
      "cell_type": "code",
      "metadata": {
        "id": "FSeCzy8mMxdu"
      },
      "source": [
        "sample_text_1=\"bitty bought a bit of butter\"\n",
        "sample_text_2=\"but the bit of butter was a bit bitter\"\n",
        "sample_text_3=\"so she bought some better butter to make the bitter butter better\"\n",
        "\n",
        "corp=[sample_text_1,sample_text_2,sample_text_3]\n",
        "no_docs=len(corp)"
      ],
      "execution_count": 4,
      "outputs": []
    },
    {
      "cell_type": "markdown",
      "metadata": {
        "id": "hkuesA4hNmB5"
      },
      "source": [
        "**INTEGER ENCODING ALL THE DOCUMENTS**\n",
        "\n",
        "After this all the unique words will be reprsented by an integer. For this we are using one_hot function from the Keras. Note that the vocab_size is specified large enough so as to ensure unique integer encoding for each and every word.\n",
        "\n",
        "**Note one important thing that the integer encoding for the word remains same in different docs. eg 'butter' is denoted by 31 in each and every document.**"
      ]
    },
    {
      "cell_type": "code",
      "metadata": {
        "id": "UyD2s7BgN0JE",
        "outputId": "c6012bd8-1e58-465e-e595-862b79d971e1",
        "colab": {
          "base_uri": "https://localhost:8080/",
          "height": 68
        }
      },
      "source": [
        "vocab_size=50 \n",
        "encod_corp=[]\n",
        "for i,doc in enumerate(corp):\n",
        "    encod_corp.append(one_hot(doc,50))\n",
        "    print(\"The encoding for document\",i+1,\" is : \",one_hot(doc,50))"
      ],
      "execution_count": 5,
      "outputs": [
        {
          "output_type": "stream",
          "text": [
            "The encoding for document 1  is :  [11, 44, 6, 15, 16, 5]\n",
            "The encoding for document 2  is :  [29, 25, 15, 16, 5, 39, 6, 15, 25]\n",
            "The encoding for document 3  is :  [48, 47, 44, 44, 16, 5, 19, 11, 25, 25, 5, 16]\n"
          ],
          "name": "stdout"
        }
      ]
    },
    {
      "cell_type": "markdown",
      "metadata": {
        "id": "9wW9HP_7N8sz"
      },
      "source": [
        "**PADDING THE DOCS (to make very doc of same length)**\n",
        "\n",
        "The Keras Embedding layer requires all individual documents to be of same length. Hence we wil pad the shorter documents with 0 for now. Therefore now in Keras Embedding layer the 'input_length' will be equal to the length (ie no of words) of the document with maximum length or maximum number of words.\n",
        "\n",
        "**To pad the shorter documents I am using pad_sequences functon from the Keras library.**"
      ]
    },
    {
      "cell_type": "code",
      "metadata": {
        "id": "MxAKgfmYOV4d",
        "outputId": "afbb29a9-252b-47b9-9cbb-12a3b892571b",
        "colab": {
          "base_uri": "https://localhost:8080/",
          "height": 68
        }
      },
      "source": [
        "import nltk\n",
        "nltk.download('punkt')"
      ],
      "execution_count": 7,
      "outputs": [
        {
          "output_type": "stream",
          "text": [
            "[nltk_data] Downloading package punkt to /root/nltk_data...\n",
            "[nltk_data]   Unzipping tokenizers/punkt.zip.\n"
          ],
          "name": "stdout"
        },
        {
          "output_type": "execute_result",
          "data": {
            "text/plain": [
              "True"
            ]
          },
          "metadata": {
            "tags": []
          },
          "execution_count": 7
        }
      ]
    },
    {
      "cell_type": "code",
      "metadata": {
        "id": "hr1KMRWdORDP",
        "outputId": "c2835cc8-d870-467b-986b-bae5feec1d9d",
        "colab": {
          "base_uri": "https://localhost:8080/",
          "height": 34
        }
      },
      "source": [
        "# length of maximum document. will be nedded whenever create embeddings for the words\n",
        "maxlen=-1\n",
        "for doc in corp:\n",
        "    tokens=nltk.word_tokenize(doc)\n",
        "    if(maxlen<len(tokens)):\n",
        "        maxlen=len(tokens)\n",
        "print(\"The maximum number of words in any document is : \",maxlen)"
      ],
      "execution_count": 8,
      "outputs": [
        {
          "output_type": "stream",
          "text": [
            "The maximum number of words in any document is :  12\n"
          ],
          "name": "stdout"
        }
      ]
    },
    {
      "cell_type": "code",
      "metadata": {
        "id": "QKx1oSWTOic-",
        "outputId": "6b9672bf-a117-47fc-810f-36ae42c110af",
        "colab": {
          "base_uri": "https://localhost:8080/",
          "height": 34
        }
      },
      "source": [
        "# now to create embeddings all of our docs need to be of same length. hence we can pad the docs with zeros.\n",
        "pad_corp=pad_sequences(encod_corp,maxlen=maxlen,padding='post',value=0.0)\n",
        "print(\"No of padded documents: \",len(pad_corp))"
      ],
      "execution_count": 9,
      "outputs": [
        {
          "output_type": "stream",
          "text": [
            "No of padded documents:  3\n"
          ],
          "name": "stdout"
        }
      ]
    },
    {
      "cell_type": "code",
      "metadata": {
        "id": "gbzjSDjLOkoU",
        "outputId": "9248c32d-efa9-42c5-e1d4-5f1c61576d8c",
        "colab": {
          "base_uri": "https://localhost:8080/",
          "height": 68
        }
      },
      "source": [
        "for i,doc in enumerate(pad_corp):\n",
        "     print(\"The padded encoding for document\",i+1,\" is : \",doc)"
      ],
      "execution_count": 10,
      "outputs": [
        {
          "output_type": "stream",
          "text": [
            "The padded encoding for document 1  is :  [11 44  6 15 16  5  0  0  0  0  0  0]\n",
            "The padded encoding for document 2  is :  [29 25 15 16  5 39  6 15 25  0  0  0]\n",
            "The padded encoding for document 3  is :  [48 47 44 44 16  5 19 11 25 25  5 16]\n"
          ],
          "name": "stdout"
        }
      ]
    },
    {
      "cell_type": "markdown",
      "metadata": {
        "id": "cHq4cjpNOt1w"
      },
      "source": [
        "**ACTUAL CREATION OF THE EMBEDDINGS using KERAS EMBEDDING LAYER**\n",
        "\n",
        "Now all the documents are of same length (after padding). And so now we are ready to create and use the embeddings.\n",
        "\n",
        "**I will embed the words into vectors of 8 dimensions.**"
      ]
    },
    {
      "cell_type": "code",
      "metadata": {
        "id": "18VOtCfTPM1L"
      },
      "source": [
        "# specifying the input shape\n",
        "input=Input(shape=(no_docs,maxlen),dtype='float64')"
      ],
      "execution_count": 11,
      "outputs": []
    },
    {
      "cell_type": "code",
      "metadata": {
        "id": "Jp144RwCPRqw"
      },
      "source": [
        "'''\n",
        "shape of input. \n",
        "each document has 12 element or words which is the value of our maxlen variable.\n",
        "\n",
        "'''\n",
        "word_input=Input(shape=(maxlen,),dtype='float64')  \n",
        "\n",
        "# creating the embedding\n",
        "word_embedding=Embedding(input_dim=vocab_size,output_dim=8,input_length=maxlen)(word_input)\n",
        "\n",
        "word_vec=Flatten()(word_embedding) # flatten\n",
        "embed_model =Model([word_input],word_vec) # combining all into a Keras model"
      ],
      "execution_count": 12,
      "outputs": []
    },
    {
      "cell_type": "markdown",
      "metadata": {
        "id": "C-YGPSQ9PcH0"
      },
      "source": [
        "PARAMETERS OF THE EMBEDDING LAYER ---\n",
        "\n",
        "'input_dim' = the vocab size that we will choose. In other words it is the number of unique words in the vocab.\n",
        "\n",
        "'output_dim' = the number of dimensions we wish to embed into. Each word will be represented by a vector of this much dimensions.\n",
        "\n",
        "'input_length' = lenght of the maximum document. which is stored in maxlen variable in our case."
      ]
    },
    {
      "cell_type": "code",
      "metadata": {
        "id": "LqUz2GRQPd83"
      },
      "source": [
        "embed_model.compile(optimizer=keras.optimizers.Adam(lr=1e-3),loss='binary_crossentropy',metrics=['acc']) \n",
        "# compiling the model. parameters can be tuned as always."
      ],
      "execution_count": 13,
      "outputs": []
    },
    {
      "cell_type": "code",
      "metadata": {
        "id": "m_i9mUrbPlJ6",
        "outputId": "c061250f-9eb0-4a22-9199-373fb1ca8e39",
        "colab": {
          "base_uri": "https://localhost:8080/",
          "height": 51
        }
      },
      "source": [
        "print(type(word_embedding))\n",
        "print(word_embedding)"
      ],
      "execution_count": 14,
      "outputs": [
        {
          "output_type": "stream",
          "text": [
            "<class 'tensorflow.python.framework.ops.Tensor'>\n",
            "Tensor(\"embedding/embedding_lookup/Identity_1:0\", shape=(None, 12, 8), dtype=float32)\n"
          ],
          "name": "stdout"
        }
      ]
    },
    {
      "cell_type": "code",
      "metadata": {
        "id": "7NKOREs0PtKu",
        "outputId": "216b3777-8410-41cf-b0b2-40c6665eff54",
        "colab": {
          "base_uri": "https://localhost:8080/",
          "height": 272
        }
      },
      "source": [
        "print(embed_model.summary()) # summary of the model"
      ],
      "execution_count": 15,
      "outputs": [
        {
          "output_type": "stream",
          "text": [
            "Model: \"functional_1\"\n",
            "_________________________________________________________________\n",
            "Layer (type)                 Output Shape              Param #   \n",
            "=================================================================\n",
            "input_2 (InputLayer)         [(None, 12)]              0         \n",
            "_________________________________________________________________\n",
            "embedding (Embedding)        (None, 12, 8)             400       \n",
            "_________________________________________________________________\n",
            "flatten (Flatten)            (None, 96)                0         \n",
            "=================================================================\n",
            "Total params: 400\n",
            "Trainable params: 400\n",
            "Non-trainable params: 0\n",
            "_________________________________________________________________\n",
            "None\n"
          ],
          "name": "stdout"
        }
      ]
    },
    {
      "cell_type": "code",
      "metadata": {
        "id": "75TTjC29P1jO"
      },
      "source": [
        "embeddings=embed_model.predict(pad_corp) # finally getting the embeddings."
      ],
      "execution_count": 16,
      "outputs": []
    },
    {
      "cell_type": "code",
      "metadata": {
        "id": "R2PtigzWP56S",
        "outputId": "b5d201e6-e393-4956-9d22-1965a7410f5c",
        "colab": {
          "base_uri": "https://localhost:8080/",
          "height": 850
        }
      },
      "source": [
        "print(\"Shape of embeddings : \",embeddings.shape)\n",
        "print(embeddings)"
      ],
      "execution_count": 17,
      "outputs": [
        {
          "output_type": "stream",
          "text": [
            "Shape of embeddings :  (3, 96)\n",
            "[[ 0.02643747 -0.03273996  0.00447986  0.04219189  0.03548241 -0.03581563\n",
            "  -0.03948783 -0.01811973  0.00977848  0.03345742 -0.01126305  0.02179888\n",
            "  -0.0214689  -0.02987996 -0.02487725  0.03263691 -0.03453332  0.04029364\n",
            "   0.01236478 -0.02904075  0.02867818 -0.01142744  0.01930623  0.0459299\n",
            "  -0.01645188 -0.00654026  0.02132687 -0.02805109  0.03854269  0.0416329\n",
            "   0.0121117   0.02978028 -0.02626245  0.0153589   0.01248128  0.03462856\n",
            "   0.04364327 -0.02913158  0.03644614 -0.00456511 -0.00137649  0.03332639\n",
            "  -0.0328102   0.01769571 -0.03066769 -0.02801114 -0.01526086 -0.02591366\n",
            "  -0.04280609  0.0265871   0.03912641  0.02125232  0.02215796 -0.03851732\n",
            "   0.01395937 -0.04208454 -0.04280609  0.0265871   0.03912641  0.02125232\n",
            "   0.02215796 -0.03851732  0.01395937 -0.04208454 -0.04280609  0.0265871\n",
            "   0.03912641  0.02125232  0.02215796 -0.03851732  0.01395937 -0.04208454\n",
            "  -0.04280609  0.0265871   0.03912641  0.02125232  0.02215796 -0.03851732\n",
            "   0.01395937 -0.04208454 -0.04280609  0.0265871   0.03912641  0.02125232\n",
            "   0.02215796 -0.03851732  0.01395937 -0.04208454 -0.04280609  0.0265871\n",
            "   0.03912641  0.02125232  0.02215796 -0.03851732  0.01395937 -0.04208454]\n",
            " [-0.02001802 -0.04052503 -0.0170873  -0.01435093 -0.04236335 -0.02921522\n",
            "   0.04376168  0.01553725 -0.01239362  0.01812687 -0.00449411 -0.02282213\n",
            "  -0.00442327 -0.00404137 -0.00705571 -0.01382684 -0.01645188 -0.00654026\n",
            "   0.02132687 -0.02805109  0.03854269  0.0416329   0.0121117   0.02978028\n",
            "  -0.02626245  0.0153589   0.01248128  0.03462856  0.04364327 -0.02913158\n",
            "   0.03644614 -0.00456511 -0.00137649  0.03332639 -0.0328102   0.01769571\n",
            "  -0.03066769 -0.02801114 -0.01526086 -0.02591366  0.00046903 -0.0214082\n",
            "  -0.02132375 -0.01517136  0.01688525 -0.00418206 -0.01126182  0.04035068\n",
            "  -0.03453332  0.04029364  0.01236478 -0.02904075  0.02867818 -0.01142744\n",
            "   0.01930623  0.0459299  -0.01645188 -0.00654026  0.02132687 -0.02805109\n",
            "   0.03854269  0.0416329   0.0121117   0.02978028 -0.01239362  0.01812687\n",
            "  -0.00449411 -0.02282213 -0.00442327 -0.00404137 -0.00705571 -0.01382684\n",
            "  -0.04280609  0.0265871   0.03912641  0.02125232  0.02215796 -0.03851732\n",
            "   0.01395937 -0.04208454 -0.04280609  0.0265871   0.03912641  0.02125232\n",
            "   0.02215796 -0.03851732  0.01395937 -0.04208454 -0.04280609  0.0265871\n",
            "   0.03912641  0.02125232  0.02215796 -0.03851732  0.01395937 -0.04208454]\n",
            " [ 0.00969092  0.0279768  -0.04254303 -0.02478482  0.01319388  0.02132082\n",
            "   0.00551262 -0.02924374  0.01502534  0.03201944  0.00906456 -0.01914743\n",
            "   0.04566356  0.02757405 -0.03646436 -0.00100826  0.00977848  0.03345742\n",
            "  -0.01126305  0.02179888 -0.0214689  -0.02987996 -0.02487725  0.03263691\n",
            "   0.00977848  0.03345742 -0.01126305  0.02179888 -0.0214689  -0.02987996\n",
            "  -0.02487725  0.03263691 -0.02626245  0.0153589   0.01248128  0.03462856\n",
            "   0.04364327 -0.02913158  0.03644614 -0.00456511 -0.00137649  0.03332639\n",
            "  -0.0328102   0.01769571 -0.03066769 -0.02801114 -0.01526086 -0.02591366\n",
            "   0.02732067  0.02677263  0.00952387 -0.04781877  0.01811666 -0.04443083\n",
            "  -0.02646698 -0.01918131  0.02643747 -0.03273996  0.00447986  0.04219189\n",
            "   0.03548241 -0.03581563 -0.03948783 -0.01811973 -0.01239362  0.01812687\n",
            "  -0.00449411 -0.02282213 -0.00442327 -0.00404137 -0.00705571 -0.01382684\n",
            "  -0.01239362  0.01812687 -0.00449411 -0.02282213 -0.00442327 -0.00404137\n",
            "  -0.00705571 -0.01382684 -0.00137649  0.03332639 -0.0328102   0.01769571\n",
            "  -0.03066769 -0.02801114 -0.01526086 -0.02591366 -0.02626245  0.0153589\n",
            "   0.01248128  0.03462856  0.04364327 -0.02913158  0.03644614 -0.00456511]]\n"
          ],
          "name": "stdout"
        }
      ]
    },
    {
      "cell_type": "code",
      "metadata": {
        "id": "SI3zzLAdP819",
        "outputId": "9a5a03a3-6f5c-470c-bc2e-bee49686a55b",
        "colab": {
          "base_uri": "https://localhost:8080/",
          "height": 1000
        }
      },
      "source": [
        "embeddings=embeddings.reshape(-1,maxlen,8)\n",
        "print(\"Shape of embeddings : \",embeddings.shape) \n",
        "print(embeddings)"
      ],
      "execution_count": 18,
      "outputs": [
        {
          "output_type": "stream",
          "text": [
            "Shape of embeddings :  (3, 12, 8)\n",
            "[[[ 0.02643747 -0.03273996  0.00447986  0.04219189  0.03548241\n",
            "   -0.03581563 -0.03948783 -0.01811973]\n",
            "  [ 0.00977848  0.03345742 -0.01126305  0.02179888 -0.0214689\n",
            "   -0.02987996 -0.02487725  0.03263691]\n",
            "  [-0.03453332  0.04029364  0.01236478 -0.02904075  0.02867818\n",
            "   -0.01142744  0.01930623  0.0459299 ]\n",
            "  [-0.01645188 -0.00654026  0.02132687 -0.02805109  0.03854269\n",
            "    0.0416329   0.0121117   0.02978028]\n",
            "  [-0.02626245  0.0153589   0.01248128  0.03462856  0.04364327\n",
            "   -0.02913158  0.03644614 -0.00456511]\n",
            "  [-0.00137649  0.03332639 -0.0328102   0.01769571 -0.03066769\n",
            "   -0.02801114 -0.01526086 -0.02591366]\n",
            "  [-0.04280609  0.0265871   0.03912641  0.02125232  0.02215796\n",
            "   -0.03851732  0.01395937 -0.04208454]\n",
            "  [-0.04280609  0.0265871   0.03912641  0.02125232  0.02215796\n",
            "   -0.03851732  0.01395937 -0.04208454]\n",
            "  [-0.04280609  0.0265871   0.03912641  0.02125232  0.02215796\n",
            "   -0.03851732  0.01395937 -0.04208454]\n",
            "  [-0.04280609  0.0265871   0.03912641  0.02125232  0.02215796\n",
            "   -0.03851732  0.01395937 -0.04208454]\n",
            "  [-0.04280609  0.0265871   0.03912641  0.02125232  0.02215796\n",
            "   -0.03851732  0.01395937 -0.04208454]\n",
            "  [-0.04280609  0.0265871   0.03912641  0.02125232  0.02215796\n",
            "   -0.03851732  0.01395937 -0.04208454]]\n",
            "\n",
            " [[-0.02001802 -0.04052503 -0.0170873  -0.01435093 -0.04236335\n",
            "   -0.02921522  0.04376168  0.01553725]\n",
            "  [-0.01239362  0.01812687 -0.00449411 -0.02282213 -0.00442327\n",
            "   -0.00404137 -0.00705571 -0.01382684]\n",
            "  [-0.01645188 -0.00654026  0.02132687 -0.02805109  0.03854269\n",
            "    0.0416329   0.0121117   0.02978028]\n",
            "  [-0.02626245  0.0153589   0.01248128  0.03462856  0.04364327\n",
            "   -0.02913158  0.03644614 -0.00456511]\n",
            "  [-0.00137649  0.03332639 -0.0328102   0.01769571 -0.03066769\n",
            "   -0.02801114 -0.01526086 -0.02591366]\n",
            "  [ 0.00046903 -0.0214082  -0.02132375 -0.01517136  0.01688525\n",
            "   -0.00418206 -0.01126182  0.04035068]\n",
            "  [-0.03453332  0.04029364  0.01236478 -0.02904075  0.02867818\n",
            "   -0.01142744  0.01930623  0.0459299 ]\n",
            "  [-0.01645188 -0.00654026  0.02132687 -0.02805109  0.03854269\n",
            "    0.0416329   0.0121117   0.02978028]\n",
            "  [-0.01239362  0.01812687 -0.00449411 -0.02282213 -0.00442327\n",
            "   -0.00404137 -0.00705571 -0.01382684]\n",
            "  [-0.04280609  0.0265871   0.03912641  0.02125232  0.02215796\n",
            "   -0.03851732  0.01395937 -0.04208454]\n",
            "  [-0.04280609  0.0265871   0.03912641  0.02125232  0.02215796\n",
            "   -0.03851732  0.01395937 -0.04208454]\n",
            "  [-0.04280609  0.0265871   0.03912641  0.02125232  0.02215796\n",
            "   -0.03851732  0.01395937 -0.04208454]]\n",
            "\n",
            " [[ 0.00969092  0.0279768  -0.04254303 -0.02478482  0.01319388\n",
            "    0.02132082  0.00551262 -0.02924374]\n",
            "  [ 0.01502534  0.03201944  0.00906456 -0.01914743  0.04566356\n",
            "    0.02757405 -0.03646436 -0.00100826]\n",
            "  [ 0.00977848  0.03345742 -0.01126305  0.02179888 -0.0214689\n",
            "   -0.02987996 -0.02487725  0.03263691]\n",
            "  [ 0.00977848  0.03345742 -0.01126305  0.02179888 -0.0214689\n",
            "   -0.02987996 -0.02487725  0.03263691]\n",
            "  [-0.02626245  0.0153589   0.01248128  0.03462856  0.04364327\n",
            "   -0.02913158  0.03644614 -0.00456511]\n",
            "  [-0.00137649  0.03332639 -0.0328102   0.01769571 -0.03066769\n",
            "   -0.02801114 -0.01526086 -0.02591366]\n",
            "  [ 0.02732067  0.02677263  0.00952387 -0.04781877  0.01811666\n",
            "   -0.04443083 -0.02646698 -0.01918131]\n",
            "  [ 0.02643747 -0.03273996  0.00447986  0.04219189  0.03548241\n",
            "   -0.03581563 -0.03948783 -0.01811973]\n",
            "  [-0.01239362  0.01812687 -0.00449411 -0.02282213 -0.00442327\n",
            "   -0.00404137 -0.00705571 -0.01382684]\n",
            "  [-0.01239362  0.01812687 -0.00449411 -0.02282213 -0.00442327\n",
            "   -0.00404137 -0.00705571 -0.01382684]\n",
            "  [-0.00137649  0.03332639 -0.0328102   0.01769571 -0.03066769\n",
            "   -0.02801114 -0.01526086 -0.02591366]\n",
            "  [-0.02626245  0.0153589   0.01248128  0.03462856  0.04364327\n",
            "   -0.02913158  0.03644614 -0.00456511]]]\n"
          ],
          "name": "stdout"
        }
      ]
    },
    {
      "cell_type": "markdown",
      "metadata": {
        "id": "e-pedKgLQHLg"
      },
      "source": [
        "The resulting shape is (3,12,8).\n",
        "\n",
        "3---> no of documents\n",
        "\n",
        "12---> each document is made of 12 words which was our maximum length of any document.\n",
        "\n",
        "& 8---> each word is 8 dimensional.\n",
        "\n"
      ]
    },
    {
      "cell_type": "markdown",
      "metadata": {
        "id": "Vb_Ibvl_QN95"
      },
      "source": [
        "**GETTING ENCODING FOR A PARTICULAR WORD IN A SPECIFIC DOCUMENT**"
      ]
    },
    {
      "cell_type": "code",
      "metadata": {
        "id": "viw7aEEhQJJw",
        "outputId": "e3fc8b69-d7cd-4dae-8866-18af6a5903d3",
        "colab": {
          "base_uri": "https://localhost:8080/",
          "height": 1000
        }
      },
      "source": [
        "for i,doc in enumerate(embeddings):\n",
        "    for j,word in enumerate(doc):\n",
        "        print(\"The encoding for \",j+1,\"th word\",\"in\",i+1,\"th document is : \\n\\n\",word)"
      ],
      "execution_count": 19,
      "outputs": [
        {
          "output_type": "stream",
          "text": [
            "The encoding for  1 th word in 1 th document is : \n",
            "\n",
            " [ 0.02643747 -0.03273996  0.00447986  0.04219189  0.03548241 -0.03581563\n",
            " -0.03948783 -0.01811973]\n",
            "The encoding for  2 th word in 1 th document is : \n",
            "\n",
            " [ 0.00977848  0.03345742 -0.01126305  0.02179888 -0.0214689  -0.02987996\n",
            " -0.02487725  0.03263691]\n",
            "The encoding for  3 th word in 1 th document is : \n",
            "\n",
            " [-0.03453332  0.04029364  0.01236478 -0.02904075  0.02867818 -0.01142744\n",
            "  0.01930623  0.0459299 ]\n",
            "The encoding for  4 th word in 1 th document is : \n",
            "\n",
            " [-0.01645188 -0.00654026  0.02132687 -0.02805109  0.03854269  0.0416329\n",
            "  0.0121117   0.02978028]\n",
            "The encoding for  5 th word in 1 th document is : \n",
            "\n",
            " [-0.02626245  0.0153589   0.01248128  0.03462856  0.04364327 -0.02913158\n",
            "  0.03644614 -0.00456511]\n",
            "The encoding for  6 th word in 1 th document is : \n",
            "\n",
            " [-0.00137649  0.03332639 -0.0328102   0.01769571 -0.03066769 -0.02801114\n",
            " -0.01526086 -0.02591366]\n",
            "The encoding for  7 th word in 1 th document is : \n",
            "\n",
            " [-0.04280609  0.0265871   0.03912641  0.02125232  0.02215796 -0.03851732\n",
            "  0.01395937 -0.04208454]\n",
            "The encoding for  8 th word in 1 th document is : \n",
            "\n",
            " [-0.04280609  0.0265871   0.03912641  0.02125232  0.02215796 -0.03851732\n",
            "  0.01395937 -0.04208454]\n",
            "The encoding for  9 th word in 1 th document is : \n",
            "\n",
            " [-0.04280609  0.0265871   0.03912641  0.02125232  0.02215796 -0.03851732\n",
            "  0.01395937 -0.04208454]\n",
            "The encoding for  10 th word in 1 th document is : \n",
            "\n",
            " [-0.04280609  0.0265871   0.03912641  0.02125232  0.02215796 -0.03851732\n",
            "  0.01395937 -0.04208454]\n",
            "The encoding for  11 th word in 1 th document is : \n",
            "\n",
            " [-0.04280609  0.0265871   0.03912641  0.02125232  0.02215796 -0.03851732\n",
            "  0.01395937 -0.04208454]\n",
            "The encoding for  12 th word in 1 th document is : \n",
            "\n",
            " [-0.04280609  0.0265871   0.03912641  0.02125232  0.02215796 -0.03851732\n",
            "  0.01395937 -0.04208454]\n",
            "The encoding for  1 th word in 2 th document is : \n",
            "\n",
            " [-0.02001802 -0.04052503 -0.0170873  -0.01435093 -0.04236335 -0.02921522\n",
            "  0.04376168  0.01553725]\n",
            "The encoding for  2 th word in 2 th document is : \n",
            "\n",
            " [-0.01239362  0.01812687 -0.00449411 -0.02282213 -0.00442327 -0.00404137\n",
            " -0.00705571 -0.01382684]\n",
            "The encoding for  3 th word in 2 th document is : \n",
            "\n",
            " [-0.01645188 -0.00654026  0.02132687 -0.02805109  0.03854269  0.0416329\n",
            "  0.0121117   0.02978028]\n",
            "The encoding for  4 th word in 2 th document is : \n",
            "\n",
            " [-0.02626245  0.0153589   0.01248128  0.03462856  0.04364327 -0.02913158\n",
            "  0.03644614 -0.00456511]\n",
            "The encoding for  5 th word in 2 th document is : \n",
            "\n",
            " [-0.00137649  0.03332639 -0.0328102   0.01769571 -0.03066769 -0.02801114\n",
            " -0.01526086 -0.02591366]\n",
            "The encoding for  6 th word in 2 th document is : \n",
            "\n",
            " [ 0.00046903 -0.0214082  -0.02132375 -0.01517136  0.01688525 -0.00418206\n",
            " -0.01126182  0.04035068]\n",
            "The encoding for  7 th word in 2 th document is : \n",
            "\n",
            " [-0.03453332  0.04029364  0.01236478 -0.02904075  0.02867818 -0.01142744\n",
            "  0.01930623  0.0459299 ]\n",
            "The encoding for  8 th word in 2 th document is : \n",
            "\n",
            " [-0.01645188 -0.00654026  0.02132687 -0.02805109  0.03854269  0.0416329\n",
            "  0.0121117   0.02978028]\n",
            "The encoding for  9 th word in 2 th document is : \n",
            "\n",
            " [-0.01239362  0.01812687 -0.00449411 -0.02282213 -0.00442327 -0.00404137\n",
            " -0.00705571 -0.01382684]\n",
            "The encoding for  10 th word in 2 th document is : \n",
            "\n",
            " [-0.04280609  0.0265871   0.03912641  0.02125232  0.02215796 -0.03851732\n",
            "  0.01395937 -0.04208454]\n",
            "The encoding for  11 th word in 2 th document is : \n",
            "\n",
            " [-0.04280609  0.0265871   0.03912641  0.02125232  0.02215796 -0.03851732\n",
            "  0.01395937 -0.04208454]\n",
            "The encoding for  12 th word in 2 th document is : \n",
            "\n",
            " [-0.04280609  0.0265871   0.03912641  0.02125232  0.02215796 -0.03851732\n",
            "  0.01395937 -0.04208454]\n",
            "The encoding for  1 th word in 3 th document is : \n",
            "\n",
            " [ 0.00969092  0.0279768  -0.04254303 -0.02478482  0.01319388  0.02132082\n",
            "  0.00551262 -0.02924374]\n",
            "The encoding for  2 th word in 3 th document is : \n",
            "\n",
            " [ 0.01502534  0.03201944  0.00906456 -0.01914743  0.04566356  0.02757405\n",
            " -0.03646436 -0.00100826]\n",
            "The encoding for  3 th word in 3 th document is : \n",
            "\n",
            " [ 0.00977848  0.03345742 -0.01126305  0.02179888 -0.0214689  -0.02987996\n",
            " -0.02487725  0.03263691]\n",
            "The encoding for  4 th word in 3 th document is : \n",
            "\n",
            " [ 0.00977848  0.03345742 -0.01126305  0.02179888 -0.0214689  -0.02987996\n",
            " -0.02487725  0.03263691]\n",
            "The encoding for  5 th word in 3 th document is : \n",
            "\n",
            " [-0.02626245  0.0153589   0.01248128  0.03462856  0.04364327 -0.02913158\n",
            "  0.03644614 -0.00456511]\n",
            "The encoding for  6 th word in 3 th document is : \n",
            "\n",
            " [-0.00137649  0.03332639 -0.0328102   0.01769571 -0.03066769 -0.02801114\n",
            " -0.01526086 -0.02591366]\n",
            "The encoding for  7 th word in 3 th document is : \n",
            "\n",
            " [ 0.02732067  0.02677263  0.00952387 -0.04781877  0.01811666 -0.04443083\n",
            " -0.02646698 -0.01918131]\n",
            "The encoding for  8 th word in 3 th document is : \n",
            "\n",
            " [ 0.02643747 -0.03273996  0.00447986  0.04219189  0.03548241 -0.03581563\n",
            " -0.03948783 -0.01811973]\n",
            "The encoding for  9 th word in 3 th document is : \n",
            "\n",
            " [-0.01239362  0.01812687 -0.00449411 -0.02282213 -0.00442327 -0.00404137\n",
            " -0.00705571 -0.01382684]\n",
            "The encoding for  10 th word in 3 th document is : \n",
            "\n",
            " [-0.01239362  0.01812687 -0.00449411 -0.02282213 -0.00442327 -0.00404137\n",
            " -0.00705571 -0.01382684]\n",
            "The encoding for  11 th word in 3 th document is : \n",
            "\n",
            " [-0.00137649  0.03332639 -0.0328102   0.01769571 -0.03066769 -0.02801114\n",
            " -0.01526086 -0.02591366]\n",
            "The encoding for  12 th word in 3 th document is : \n",
            "\n",
            " [-0.02626245  0.0153589   0.01248128  0.03462856  0.04364327 -0.02913158\n",
            "  0.03644614 -0.00456511]\n"
          ],
          "name": "stdout"
        }
      ]
    },
    {
      "cell_type": "markdown",
      "metadata": {
        "id": "J_DkcZKIQbLw"
      },
      "source": [
        "Now this makes it easier to visualize that we have 3(size of corp) documents with each consisting of 12(maxlen) words and each word mapped to a 8-dimensional vector.\n",
        "\n",
        "Just like above we can now use any other document. We can sent_tokenize the doc into sentences.\n",
        "\n",
        "Each sentence has a list of words which we will integer encode using the 'one_hot' function as below.\n",
        "\n",
        "Now each sentence will be having different number of words. So we will need to pad the sequences to the sentence with maximum words.\n",
        "\n",
        "At this point we are ready to feed the input to Keras Embedding layer as shown above.\n",
        "\n",
        "'input_dim' = the vocab size that we will choose\n",
        "\n",
        "'output_dim' = the number of dimensions we wish to embed into\n",
        "\n",
        "'input_length' = lenght of the maximum document"
      ]
    },
    {
      "cell_type": "code",
      "metadata": {
        "id": "l43z8x0_Qde7"
      },
      "source": [
        ""
      ],
      "execution_count": null,
      "outputs": []
    }
  ]
}