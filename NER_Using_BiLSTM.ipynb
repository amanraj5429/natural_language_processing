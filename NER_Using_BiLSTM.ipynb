{
  "nbformat": 4,
  "nbformat_minor": 0,
  "metadata": {
    "colab": {
      "name": "NER_Using_BiLSTM.ipynb",
      "provenance": []
    },
    "kernelspec": {
      "name": "python3",
      "display_name": "Python 3"
    }
  },
  "cells": [
    {
      "cell_type": "markdown",
      "metadata": {
        "id": "TXrLeWbFf46J"
      },
      "source": [
        "For using the data from my drive to colab run this code first and go to the link which will appear, allow access and copy the code and paste in this so that you will be able to retreive the data."
      ]
    },
    {
      "cell_type": "code",
      "metadata": {
        "id": "Hi_P30IUb4tn"
      },
      "source": [
        "# Install the PyDrive wrapper & import libraries.\n",
        "# This only needs to be done once per notebook.\n",
        "!pip install -U -q PyDrive\n",
        "from pydrive.auth import GoogleAuth\n",
        "from pydrive.drive import GoogleDrive\n",
        "from google.colab import auth\n",
        "from oauth2client.client import GoogleCredentials\n",
        "\n",
        "# Authenticate and create the PyDrive client.\n",
        "# This only needs to be done once per notebook.\n",
        "auth.authenticate_user()\n",
        "gauth = GoogleAuth()\n",
        "gauth.credentials = GoogleCredentials.get_application_default()\n",
        "drive = GoogleDrive(gauth)"
      ],
      "execution_count": 1,
      "outputs": []
    },
    {
      "cell_type": "code",
      "metadata": {
        "id": "TwhghC9yfuSb",
        "outputId": "120e5e5e-6e67-4133-df3a-3c79cfa5d87c",
        "colab": {
          "base_uri": "https://localhost:8080/",
          "height": 34
        }
      },
      "source": [
        "link = 'https://drive.google.com/open?id=1RL4UDH-FHzVA6lT2vu9SlxqDg2x9vrD2'\n",
        "fluff, id = link.split('=')\n",
        "print (id) # Verify that you have everything after '='"
      ],
      "execution_count": 2,
      "outputs": [
        {
          "output_type": "stream",
          "text": [
            "1RL4UDH-FHzVA6lT2vu9SlxqDg2x9vrD2\n"
          ],
          "name": "stdout"
        }
      ]
    },
    {
      "cell_type": "code",
      "metadata": {
        "id": "KJ2FhF-7f0WI"
      },
      "source": [
        "downloaded = drive.CreateFile({'id':id}) \n",
        "downloaded.GetContentFile('ner.csv')"
      ],
      "execution_count": 3,
      "outputs": []
    },
    {
      "cell_type": "markdown",
      "metadata": {
        "id": "O06QbrhOgHbI"
      },
      "source": [
        "Now our data have been loaded in colab for use."
      ]
    },
    {
      "cell_type": "markdown",
      "metadata": {
        "id": "-zR_nMOcgNur"
      },
      "source": [
        "**Import required library and functions**"
      ]
    },
    {
      "cell_type": "code",
      "metadata": {
        "id": "kaK1RUcFgJ7w"
      },
      "source": [
        "import numpy as np \n",
        "import pandas as pd\n",
        "\n",
        "\n",
        "import keras\n",
        "from keras.models import Sequential, Input, Model\n",
        "from keras.layers import Embedding, LSTM, Dense, Bidirectional, Dropout, TimeDistributed, Flatten\n",
        "from keras.preprocessing.sequence import pad_sequences"
      ],
      "execution_count": 4,
      "outputs": []
    },
    {
      "cell_type": "code",
      "metadata": {
        "id": "U_RxOunfgXr9",
        "outputId": "bd0e236d-a0df-45dd-f7d5-4a02feec0108",
        "colab": {
          "base_uri": "https://localhost:8080/",
          "height": 275
        }
      },
      "source": [
        "df = pd.read_csv(\"ner.csv\", encoding = \"ISO-8859-1\", error_bad_lines=False)\n",
        "df.head()"
      ],
      "execution_count": 5,
      "outputs": [
        {
          "output_type": "stream",
          "text": [
            "b'Skipping line 281837: expected 25 fields, saw 34\\n'\n"
          ],
          "name": "stderr"
        },
        {
          "output_type": "execute_result",
          "data": {
            "text/html": [
              "<div>\n",
              "<style scoped>\n",
              "    .dataframe tbody tr th:only-of-type {\n",
              "        vertical-align: middle;\n",
              "    }\n",
              "\n",
              "    .dataframe tbody tr th {\n",
              "        vertical-align: top;\n",
              "    }\n",
              "\n",
              "    .dataframe thead th {\n",
              "        text-align: right;\n",
              "    }\n",
              "</style>\n",
              "<table border=\"1\" class=\"dataframe\">\n",
              "  <thead>\n",
              "    <tr style=\"text-align: right;\">\n",
              "      <th></th>\n",
              "      <th>Unnamed: 0</th>\n",
              "      <th>lemma</th>\n",
              "      <th>next-lemma</th>\n",
              "      <th>next-next-lemma</th>\n",
              "      <th>next-next-pos</th>\n",
              "      <th>next-next-shape</th>\n",
              "      <th>next-next-word</th>\n",
              "      <th>next-pos</th>\n",
              "      <th>next-shape</th>\n",
              "      <th>next-word</th>\n",
              "      <th>pos</th>\n",
              "      <th>prev-iob</th>\n",
              "      <th>prev-lemma</th>\n",
              "      <th>prev-pos</th>\n",
              "      <th>prev-prev-iob</th>\n",
              "      <th>prev-prev-lemma</th>\n",
              "      <th>prev-prev-pos</th>\n",
              "      <th>prev-prev-shape</th>\n",
              "      <th>prev-prev-word</th>\n",
              "      <th>prev-shape</th>\n",
              "      <th>prev-word</th>\n",
              "      <th>sentence_idx</th>\n",
              "      <th>shape</th>\n",
              "      <th>word</th>\n",
              "      <th>tag</th>\n",
              "    </tr>\n",
              "  </thead>\n",
              "  <tbody>\n",
              "    <tr>\n",
              "      <th>0</th>\n",
              "      <td>0</td>\n",
              "      <td>thousand</td>\n",
              "      <td>of</td>\n",
              "      <td>demonstr</td>\n",
              "      <td>NNS</td>\n",
              "      <td>lowercase</td>\n",
              "      <td>demonstrators</td>\n",
              "      <td>IN</td>\n",
              "      <td>lowercase</td>\n",
              "      <td>of</td>\n",
              "      <td>NNS</td>\n",
              "      <td>__START1__</td>\n",
              "      <td>__start1__</td>\n",
              "      <td>__START1__</td>\n",
              "      <td>__START2__</td>\n",
              "      <td>__start2__</td>\n",
              "      <td>__START2__</td>\n",
              "      <td>wildcard</td>\n",
              "      <td>__START2__</td>\n",
              "      <td>wildcard</td>\n",
              "      <td>__START1__</td>\n",
              "      <td>1.0</td>\n",
              "      <td>capitalized</td>\n",
              "      <td>Thousands</td>\n",
              "      <td>O</td>\n",
              "    </tr>\n",
              "    <tr>\n",
              "      <th>1</th>\n",
              "      <td>1</td>\n",
              "      <td>of</td>\n",
              "      <td>demonstr</td>\n",
              "      <td>have</td>\n",
              "      <td>VBP</td>\n",
              "      <td>lowercase</td>\n",
              "      <td>have</td>\n",
              "      <td>NNS</td>\n",
              "      <td>lowercase</td>\n",
              "      <td>demonstrators</td>\n",
              "      <td>IN</td>\n",
              "      <td>O</td>\n",
              "      <td>thousand</td>\n",
              "      <td>NNS</td>\n",
              "      <td>__START1__</td>\n",
              "      <td>__start1__</td>\n",
              "      <td>__START1__</td>\n",
              "      <td>wildcard</td>\n",
              "      <td>__START1__</td>\n",
              "      <td>capitalized</td>\n",
              "      <td>Thousands</td>\n",
              "      <td>1.0</td>\n",
              "      <td>lowercase</td>\n",
              "      <td>of</td>\n",
              "      <td>O</td>\n",
              "    </tr>\n",
              "    <tr>\n",
              "      <th>2</th>\n",
              "      <td>2</td>\n",
              "      <td>demonstr</td>\n",
              "      <td>have</td>\n",
              "      <td>march</td>\n",
              "      <td>VBN</td>\n",
              "      <td>lowercase</td>\n",
              "      <td>marched</td>\n",
              "      <td>VBP</td>\n",
              "      <td>lowercase</td>\n",
              "      <td>have</td>\n",
              "      <td>NNS</td>\n",
              "      <td>O</td>\n",
              "      <td>of</td>\n",
              "      <td>IN</td>\n",
              "      <td>O</td>\n",
              "      <td>thousand</td>\n",
              "      <td>NNS</td>\n",
              "      <td>capitalized</td>\n",
              "      <td>Thousands</td>\n",
              "      <td>lowercase</td>\n",
              "      <td>of</td>\n",
              "      <td>1.0</td>\n",
              "      <td>lowercase</td>\n",
              "      <td>demonstrators</td>\n",
              "      <td>O</td>\n",
              "    </tr>\n",
              "    <tr>\n",
              "      <th>3</th>\n",
              "      <td>3</td>\n",
              "      <td>have</td>\n",
              "      <td>march</td>\n",
              "      <td>through</td>\n",
              "      <td>IN</td>\n",
              "      <td>lowercase</td>\n",
              "      <td>through</td>\n",
              "      <td>VBN</td>\n",
              "      <td>lowercase</td>\n",
              "      <td>marched</td>\n",
              "      <td>VBP</td>\n",
              "      <td>O</td>\n",
              "      <td>demonstr</td>\n",
              "      <td>NNS</td>\n",
              "      <td>O</td>\n",
              "      <td>of</td>\n",
              "      <td>IN</td>\n",
              "      <td>lowercase</td>\n",
              "      <td>of</td>\n",
              "      <td>lowercase</td>\n",
              "      <td>demonstrators</td>\n",
              "      <td>1.0</td>\n",
              "      <td>lowercase</td>\n",
              "      <td>have</td>\n",
              "      <td>O</td>\n",
              "    </tr>\n",
              "    <tr>\n",
              "      <th>4</th>\n",
              "      <td>4</td>\n",
              "      <td>march</td>\n",
              "      <td>through</td>\n",
              "      <td>london</td>\n",
              "      <td>NNP</td>\n",
              "      <td>capitalized</td>\n",
              "      <td>London</td>\n",
              "      <td>IN</td>\n",
              "      <td>lowercase</td>\n",
              "      <td>through</td>\n",
              "      <td>VBN</td>\n",
              "      <td>O</td>\n",
              "      <td>have</td>\n",
              "      <td>VBP</td>\n",
              "      <td>O</td>\n",
              "      <td>demonstr</td>\n",
              "      <td>NNS</td>\n",
              "      <td>lowercase</td>\n",
              "      <td>demonstrators</td>\n",
              "      <td>lowercase</td>\n",
              "      <td>have</td>\n",
              "      <td>1.0</td>\n",
              "      <td>lowercase</td>\n",
              "      <td>marched</td>\n",
              "      <td>O</td>\n",
              "    </tr>\n",
              "  </tbody>\n",
              "</table>\n",
              "</div>"
            ],
            "text/plain": [
              "   Unnamed: 0     lemma next-lemma  ...        shape           word tag\n",
              "0           0  thousand         of  ...  capitalized      Thousands   O\n",
              "1           1        of   demonstr  ...    lowercase             of   O\n",
              "2           2  demonstr       have  ...    lowercase  demonstrators   O\n",
              "3           3      have      march  ...    lowercase           have   O\n",
              "4           4     march    through  ...    lowercase        marched   O\n",
              "\n",
              "[5 rows x 25 columns]"
            ]
          },
          "metadata": {
            "tags": []
          },
          "execution_count": 5
        }
      ]
    },
    {
      "cell_type": "markdown",
      "metadata": {
        "id": "5Z6Y3nRZgugP"
      },
      "source": [
        "**For converting dataset into required form**"
      ]
    },
    {
      "cell_type": "code",
      "metadata": {
        "id": "bql3BESSgoXH",
        "outputId": "f0814cb6-67a6-45bc-edf1-edb4ca61344a",
        "colab": {
          "base_uri": "https://localhost:8080/",
          "height": 204
        }
      },
      "source": [
        "dataset=df.drop(['Unnamed: 0', 'lemma', 'next-lemma', 'next-next-lemma', 'next-next-pos',\n",
        "       'next-next-shape', 'next-next-word', 'next-pos', 'next-shape',\n",
        "       'next-word', 'prev-iob', 'prev-lemma', 'prev-pos',\n",
        "       'prev-prev-iob', 'prev-prev-lemma', 'prev-prev-pos', 'prev-prev-shape',\n",
        "       'prev-prev-word', 'prev-shape', 'prev-word','shape'],axis=1)\n",
        "dataset.head()"
      ],
      "execution_count": 6,
      "outputs": [
        {
          "output_type": "execute_result",
          "data": {
            "text/html": [
              "<div>\n",
              "<style scoped>\n",
              "    .dataframe tbody tr th:only-of-type {\n",
              "        vertical-align: middle;\n",
              "    }\n",
              "\n",
              "    .dataframe tbody tr th {\n",
              "        vertical-align: top;\n",
              "    }\n",
              "\n",
              "    .dataframe thead th {\n",
              "        text-align: right;\n",
              "    }\n",
              "</style>\n",
              "<table border=\"1\" class=\"dataframe\">\n",
              "  <thead>\n",
              "    <tr style=\"text-align: right;\">\n",
              "      <th></th>\n",
              "      <th>pos</th>\n",
              "      <th>sentence_idx</th>\n",
              "      <th>word</th>\n",
              "      <th>tag</th>\n",
              "    </tr>\n",
              "  </thead>\n",
              "  <tbody>\n",
              "    <tr>\n",
              "      <th>0</th>\n",
              "      <td>NNS</td>\n",
              "      <td>1.0</td>\n",
              "      <td>Thousands</td>\n",
              "      <td>O</td>\n",
              "    </tr>\n",
              "    <tr>\n",
              "      <th>1</th>\n",
              "      <td>IN</td>\n",
              "      <td>1.0</td>\n",
              "      <td>of</td>\n",
              "      <td>O</td>\n",
              "    </tr>\n",
              "    <tr>\n",
              "      <th>2</th>\n",
              "      <td>NNS</td>\n",
              "      <td>1.0</td>\n",
              "      <td>demonstrators</td>\n",
              "      <td>O</td>\n",
              "    </tr>\n",
              "    <tr>\n",
              "      <th>3</th>\n",
              "      <td>VBP</td>\n",
              "      <td>1.0</td>\n",
              "      <td>have</td>\n",
              "      <td>O</td>\n",
              "    </tr>\n",
              "    <tr>\n",
              "      <th>4</th>\n",
              "      <td>VBN</td>\n",
              "      <td>1.0</td>\n",
              "      <td>marched</td>\n",
              "      <td>O</td>\n",
              "    </tr>\n",
              "  </tbody>\n",
              "</table>\n",
              "</div>"
            ],
            "text/plain": [
              "   pos  sentence_idx           word tag\n",
              "0  NNS           1.0      Thousands   O\n",
              "1   IN           1.0             of   O\n",
              "2  NNS           1.0  demonstrators   O\n",
              "3  VBP           1.0           have   O\n",
              "4  VBN           1.0        marched   O"
            ]
          },
          "metadata": {
            "tags": []
          },
          "execution_count": 6
        }
      ]
    },
    {
      "cell_type": "markdown",
      "metadata": {
        "id": "j6aulJAig-wN"
      },
      "source": [
        "**For getting word and tags for training**"
      ]
    },
    {
      "cell_type": "code",
      "metadata": {
        "id": "0ck-MYVMhEJu"
      },
      "source": [
        "class SentenceGetter(object):\n",
        "    \n",
        "    def __init__(self, dataset):\n",
        "        self.n_sent = 1\n",
        "        self.dataset = dataset\n",
        "        self.empty = False\n",
        "        agg_func = lambda s: [(w, t) for w,t in zip(s[\"word\"].values.tolist(), s[\"tag\"].values.tolist())]\n",
        "        self.grouped = self.dataset.groupby(\"sentence_idx\").apply(agg_func)\n",
        "        self.sentences = [s for s in self.grouped]\n",
        "    \n",
        "    def get_next(self):\n",
        "        try:\n",
        "            s = self.grouped[\"Sentence: {}\".format(self.n_sent)]\n",
        "            self.n_sent += 1\n",
        "            return s\n",
        "        except:\n",
        "            return None"
      ],
      "execution_count": 7,
      "outputs": []
    },
    {
      "cell_type": "code",
      "metadata": {
        "id": "dL6vDnSrhKUX",
        "outputId": "6455c60e-54e9-4d69-91ad-22f23d1a73e8",
        "colab": {
          "base_uri": "https://localhost:8080/",
          "height": 1000
        }
      },
      "source": [
        "getter = SentenceGetter(dataset)\n",
        "sentences = getter.sentences\n",
        "sentences[1]"
      ],
      "execution_count": 8,
      "outputs": [
        {
          "output_type": "execute_result",
          "data": {
            "text/plain": [
              "[('Families', 'O'),\n",
              " ('of', 'O'),\n",
              " ('soldiers', 'O'),\n",
              " ('killed', 'O'),\n",
              " ('in', 'O'),\n",
              " ('the', 'O'),\n",
              " ('conflict', 'O'),\n",
              " ('joined', 'O'),\n",
              " ('the', 'O'),\n",
              " ('protesters', 'O'),\n",
              " ('who', 'O'),\n",
              " ('carried', 'O'),\n",
              " ('banners', 'O'),\n",
              " ('with', 'O'),\n",
              " ('such', 'O'),\n",
              " ('slogans', 'O'),\n",
              " ('as', 'O'),\n",
              " ('\"', 'O'),\n",
              " ('Bush', 'B-per'),\n",
              " ('Number', 'O'),\n",
              " ('One', 'O'),\n",
              " ('Terrorist', 'O'),\n",
              " ('\"', 'O'),\n",
              " ('and', 'O'),\n",
              " ('\"', 'O'),\n",
              " ('Stop', 'O'),\n",
              " ('the', 'O'),\n",
              " ('Bombings', 'O'),\n",
              " ('.', 'O'),\n",
              " ('\"', 'O'),\n",
              " ('Families', 'O'),\n",
              " ('of', 'O'),\n",
              " ('soldiers', 'O'),\n",
              " ('killed', 'O'),\n",
              " ('in', 'O'),\n",
              " ('the', 'O'),\n",
              " ('conflict', 'O'),\n",
              " ('joined', 'O'),\n",
              " ('the', 'O'),\n",
              " ('protesters', 'O'),\n",
              " ('who', 'O'),\n",
              " ('carried', 'O'),\n",
              " ('banners', 'O'),\n",
              " ('with', 'O'),\n",
              " ('such', 'O'),\n",
              " ('slogans', 'O'),\n",
              " ('as', 'O'),\n",
              " ('\"', 'O'),\n",
              " ('Bush', 'B-per'),\n",
              " ('Number', 'O'),\n",
              " ('One', 'O'),\n",
              " ('Terrorist', 'O'),\n",
              " ('\"', 'O'),\n",
              " ('and', 'O'),\n",
              " ('\"', 'O'),\n",
              " ('Stop', 'O'),\n",
              " ('the', 'O'),\n",
              " ('Bombings', 'O'),\n",
              " ('.', 'O'),\n",
              " ('\"', 'O')]"
            ]
          },
          "metadata": {
            "tags": []
          },
          "execution_count": 8
        }
      ]
    },
    {
      "cell_type": "markdown",
      "metadata": {
        "id": "D5x6HR8khWvZ"
      },
      "source": [
        "Getting words"
      ]
    },
    {
      "cell_type": "code",
      "metadata": {
        "id": "hhEFAD9ChZy9",
        "outputId": "71fcfa99-0591-424b-9e74-bb6132edb4a9",
        "colab": {
          "base_uri": "https://localhost:8080/",
          "height": 1000
        }
      },
      "source": [
        "sentences = [[s[0].lower() for s in sent] for sent in getter.sentences]\n",
        "sentences[1]"
      ],
      "execution_count": 9,
      "outputs": [
        {
          "output_type": "execute_result",
          "data": {
            "text/plain": [
              "['families',\n",
              " 'of',\n",
              " 'soldiers',\n",
              " 'killed',\n",
              " 'in',\n",
              " 'the',\n",
              " 'conflict',\n",
              " 'joined',\n",
              " 'the',\n",
              " 'protesters',\n",
              " 'who',\n",
              " 'carried',\n",
              " 'banners',\n",
              " 'with',\n",
              " 'such',\n",
              " 'slogans',\n",
              " 'as',\n",
              " '\"',\n",
              " 'bush',\n",
              " 'number',\n",
              " 'one',\n",
              " 'terrorist',\n",
              " '\"',\n",
              " 'and',\n",
              " '\"',\n",
              " 'stop',\n",
              " 'the',\n",
              " 'bombings',\n",
              " '.',\n",
              " '\"',\n",
              " 'families',\n",
              " 'of',\n",
              " 'soldiers',\n",
              " 'killed',\n",
              " 'in',\n",
              " 'the',\n",
              " 'conflict',\n",
              " 'joined',\n",
              " 'the',\n",
              " 'protesters',\n",
              " 'who',\n",
              " 'carried',\n",
              " 'banners',\n",
              " 'with',\n",
              " 'such',\n",
              " 'slogans',\n",
              " 'as',\n",
              " '\"',\n",
              " 'bush',\n",
              " 'number',\n",
              " 'one',\n",
              " 'terrorist',\n",
              " '\"',\n",
              " 'and',\n",
              " '\"',\n",
              " 'stop',\n",
              " 'the',\n",
              " 'bombings',\n",
              " '.',\n",
              " '\"']"
            ]
          },
          "metadata": {
            "tags": []
          },
          "execution_count": 9
        }
      ]
    },
    {
      "cell_type": "markdown",
      "metadata": {
        "id": "F6vBFiFKhlLz"
      },
      "source": [
        "**Getting tags or labels**"
      ]
    },
    {
      "cell_type": "code",
      "metadata": {
        "id": "-mDvAE2whgdh",
        "outputId": "24ccd585-a10d-4485-8159-1ff3948f2999",
        "colab": {
          "base_uri": "https://localhost:8080/",
          "height": 54
        }
      },
      "source": [
        "labels = [[s[1] for s in sent] for sent in getter.sentences]\n",
        "print(labels[1])"
      ],
      "execution_count": 10,
      "outputs": [
        {
          "output_type": "stream",
          "text": [
            "['O', 'O', 'O', 'O', 'O', 'O', 'O', 'O', 'O', 'O', 'O', 'O', 'O', 'O', 'O', 'O', 'O', 'O', 'B-per', 'O', 'O', 'O', 'O', 'O', 'O', 'O', 'O', 'O', 'O', 'O', 'O', 'O', 'O', 'O', 'O', 'O', 'O', 'O', 'O', 'O', 'O', 'O', 'O', 'O', 'O', 'O', 'O', 'O', 'B-per', 'O', 'O', 'O', 'O', 'O', 'O', 'O', 'O', 'O', 'O', 'O']\n"
          ],
          "name": "stdout"
        }
      ]
    },
    {
      "cell_type": "markdown",
      "metadata": {
        "id": "AucNdQt9h0TE"
      },
      "source": [
        "**Word embedding**"
      ]
    },
    {
      "cell_type": "code",
      "metadata": {
        "id": "2T52opjOhuG9",
        "outputId": "85ab9767-e768-417f-8cc7-4117855b3365",
        "colab": {
          "base_uri": "https://localhost:8080/",
          "height": 34
        }
      },
      "source": [
        "maxlen = max([len(s) for s in sentences])\n",
        "print ('Maximum sequence length:', maxlen)"
      ],
      "execution_count": 11,
      "outputs": [
        {
          "output_type": "stream",
          "text": [
            "Maximum sequence length: 140\n"
          ],
          "name": "stdout"
        }
      ]
    },
    {
      "cell_type": "code",
      "metadata": {
        "id": "TZQab-yliKAp"
      },
      "source": [
        "# Check how long sentences are so that we can pad them\n",
        "import matplotlib.pyplot as plt\n",
        "%matplotlib inline\n",
        "plt.style.use(\"ggplot\")"
      ],
      "execution_count": 12,
      "outputs": []
    },
    {
      "cell_type": "code",
      "metadata": {
        "id": "Gj0cTh0diwcc",
        "outputId": "eb7f4534-2032-401c-a415-e323b1b2e40c",
        "colab": {
          "base_uri": "https://localhost:8080/",
          "height": 265
        }
      },
      "source": [
        "plt.hist([len(s) for s in sentences], bins=50)\n",
        "plt.show()"
      ],
      "execution_count": 13,
      "outputs": [
        {
          "output_type": "display_data",
          "data": {
            "image/png": "[encoded data removed]",
            "text/plain": [
              "<Figure size 432x288 with 1 Axes>"
            ]
          },
          "metadata": {
            "tags": []
          }
        }
      ]
    },
    {
      "cell_type": "code",
      "metadata": {
        "id": "5XdDI1hci2TH",
        "outputId": "fc366e9e-c3bc-4661-c7af-abf70faf8cd6",
        "colab": {
          "base_uri": "https://localhost:8080/",
          "height": 34
        }
      },
      "source": [
        "words = np.array([x.lower() if isinstance(x, str) else x for x in dataset[\"word\"].values])\n",
        "words = list(set(words))\n",
        "words.append('unk')\n",
        "words.append('pad')\n",
        "n_words = len(words); n_words"
      ],
      "execution_count": 14,
      "outputs": [
        {
          "output_type": "execute_result",
          "data": {
            "text/plain": [
              "27422"
            ]
          },
          "metadata": {
            "tags": []
          },
          "execution_count": 14
        }
      ]
    },
    {
      "cell_type": "code",
      "metadata": {
        "id": "X99bLXehi88E",
        "outputId": "cfe0359e-b0ac-4115-ed47-140130a51093",
        "colab": {
          "base_uri": "https://localhost:8080/",
          "height": 34
        }
      },
      "source": [
        "tags = list(set(dataset[\"tag\"].values))\n",
        "n_tags = len(tags)\n",
        "n_tags"
      ],
      "execution_count": 15,
      "outputs": [
        {
          "output_type": "execute_result",
          "data": {
            "text/plain": [
              "18"
            ]
          },
          "metadata": {
            "tags": []
          },
          "execution_count": 15
        }
      ]
    },
    {
      "cell_type": "code",
      "metadata": {
        "id": "y1vI1uvLjGVP"
      },
      "source": [
        "word2idx = {w: i for i, w in enumerate(words)}\n",
        "tag2idx = {t: i for i, t in enumerate(tags)}"
      ],
      "execution_count": 16,
      "outputs": []
    },
    {
      "cell_type": "code",
      "metadata": {
        "id": "EtcANhBXjKjm",
        "outputId": "141876ed-6ca7-4cc5-d5c2-2f1badf88af9",
        "colab": {
          "base_uri": "https://localhost:8080/",
          "height": 323
        }
      },
      "source": [
        "tag2idx"
      ],
      "execution_count": 17,
      "outputs": [
        {
          "output_type": "execute_result",
          "data": {
            "text/plain": [
              "{'B-art': 10,\n",
              " 'B-eve': 0,\n",
              " 'B-geo': 17,\n",
              " 'B-gpe': 8,\n",
              " 'B-nat': 1,\n",
              " 'B-org': 9,\n",
              " 'B-per': 11,\n",
              " 'B-tim': 12,\n",
              " 'I-art': 4,\n",
              " 'I-eve': 15,\n",
              " 'I-geo': 2,\n",
              " 'I-gpe': 5,\n",
              " 'I-nat': 6,\n",
              " 'I-org': 14,\n",
              " 'I-per': 13,\n",
              " 'I-tim': 16,\n",
              " 'O': 3,\n",
              " nan: 7}"
            ]
          },
          "metadata": {
            "tags": []
          },
          "execution_count": 17
        }
      ]
    },
    {
      "cell_type": "code",
      "metadata": {
        "id": "_Av0E0XkjRKA",
        "outputId": "c27f3a8e-5f3f-4f9b-eafd-c1a29b20faa0",
        "colab": {
          "base_uri": "https://localhost:8080/",
          "height": 34
        }
      },
      "source": [
        "word2idx['unk']"
      ],
      "execution_count": 18,
      "outputs": [
        {
          "output_type": "execute_result",
          "data": {
            "text/plain": [
              "27420"
            ]
          },
          "metadata": {
            "tags": []
          },
          "execution_count": 18
        }
      ]
    },
    {
      "cell_type": "markdown",
      "metadata": {
        "id": "H-tSHEcSjVZp"
      },
      "source": [
        "**X & y (features and labels)**"
      ]
    },
    {
      "cell_type": "code",
      "metadata": {
        "id": "r9xFy2TdjYPt",
        "outputId": "6197fb7a-4ace-44a0-9096-02ed9b0465c4",
        "colab": {
          "base_uri": "https://localhost:8080/",
          "height": 1000
        }
      },
      "source": [
        "X = [[word2idx.get(w,'27420') for w in s] for s in sentences]\n",
        "X[1]"
      ],
      "execution_count": 19,
      "outputs": [
        {
          "output_type": "execute_result",
          "data": {
            "text/plain": [
              "[17760,\n",
              " 984,\n",
              " 16021,\n",
              " 26140,\n",
              " 3511,\n",
              " 5153,\n",
              " 10230,\n",
              " 13312,\n",
              " 5153,\n",
              " 12179,\n",
              " 2298,\n",
              " 11714,\n",
              " 5480,\n",
              " 18696,\n",
              " 6111,\n",
              " 13305,\n",
              " 1833,\n",
              " 16351,\n",
              " 10361,\n",
              " 17944,\n",
              " 179,\n",
              " 18306,\n",
              " 16351,\n",
              " 12058,\n",
              " 16351,\n",
              " 25995,\n",
              " 5153,\n",
              " 22406,\n",
              " 11689,\n",
              " 16351,\n",
              " 17760,\n",
              " 984,\n",
              " 16021,\n",
              " 26140,\n",
              " 3511,\n",
              " 5153,\n",
              " 10230,\n",
              " 13312,\n",
              " 5153,\n",
              " 12179,\n",
              " 2298,\n",
              " 11714,\n",
              " 5480,\n",
              " 18696,\n",
              " 6111,\n",
              " 13305,\n",
              " 1833,\n",
              " 16351,\n",
              " 10361,\n",
              " 17944,\n",
              " 179,\n",
              " 18306,\n",
              " 16351,\n",
              " 12058,\n",
              " 16351,\n",
              " 25995,\n",
              " 5153,\n",
              " 22406,\n",
              " 11689,\n",
              " 16351]"
            ]
          },
          "metadata": {
            "tags": []
          },
          "execution_count": 19
        }
      ]
    },
    {
      "cell_type": "code",
      "metadata": {
        "id": "alVuJ0W2jeZZ",
        "outputId": "707279f8-123b-4adb-c8b9-be67d44b7a2a",
        "colab": {
          "base_uri": "https://localhost:8080/",
          "height": 1000
        }
      },
      "source": [
        "y = [[tag2idx.get(l) for l in lab] for lab in labels]\n",
        "y[1]"
      ],
      "execution_count": 20,
      "outputs": [
        {
          "output_type": "execute_result",
          "data": {
            "text/plain": [
              "[3,\n",
              " 3,\n",
              " 3,\n",
              " 3,\n",
              " 3,\n",
              " 3,\n",
              " 3,\n",
              " 3,\n",
              " 3,\n",
              " 3,\n",
              " 3,\n",
              " 3,\n",
              " 3,\n",
              " 3,\n",
              " 3,\n",
              " 3,\n",
              " 3,\n",
              " 3,\n",
              " 11,\n",
              " 3,\n",
              " 3,\n",
              " 3,\n",
              " 3,\n",
              " 3,\n",
              " 3,\n",
              " 3,\n",
              " 3,\n",
              " 3,\n",
              " 3,\n",
              " 3,\n",
              " 3,\n",
              " 3,\n",
              " 3,\n",
              " 3,\n",
              " 3,\n",
              " 3,\n",
              " 3,\n",
              " 3,\n",
              " 3,\n",
              " 3,\n",
              " 3,\n",
              " 3,\n",
              " 3,\n",
              " 3,\n",
              " 3,\n",
              " 3,\n",
              " 3,\n",
              " 3,\n",
              " 11,\n",
              " 3,\n",
              " 3,\n",
              " 3,\n",
              " 3,\n",
              " 3,\n",
              " 3,\n",
              " 3,\n",
              " 3,\n",
              " 3,\n",
              " 3,\n",
              " 3]"
            ]
          },
          "metadata": {
            "tags": []
          },
          "execution_count": 20
        }
      ]
    },
    {
      "cell_type": "code",
      "metadata": {
        "id": "1qHAPiBljlc-"
      },
      "source": [
        "X = pad_sequences(maxlen=140, sequences=X, padding=\"post\", value=n_words-1)"
      ],
      "execution_count": 21,
      "outputs": []
    },
    {
      "cell_type": "code",
      "metadata": {
        "id": "II2GEakOjtem",
        "outputId": "d92bcc56-55a8-47df-f5e3-05a3c5267f13",
        "colab": {
          "base_uri": "https://localhost:8080/",
          "height": 34
        }
      },
      "source": [
        "word2idx['pad'], n_words-1"
      ],
      "execution_count": 22,
      "outputs": [
        {
          "output_type": "execute_result",
          "data": {
            "text/plain": [
              "(27421, 27421)"
            ]
          },
          "metadata": {
            "tags": []
          },
          "execution_count": 22
        }
      ]
    },
    {
      "cell_type": "code",
      "metadata": {
        "id": "QpnPrvuqjvNI"
      },
      "source": [
        "y = pad_sequences(maxlen=140, sequences=y, padding=\"post\", value=tag2idx[\"O\"])"
      ],
      "execution_count": 23,
      "outputs": []
    },
    {
      "cell_type": "code",
      "metadata": {
        "id": "xtqd1fEwj2CF",
        "outputId": "7315678e-9876-4091-c05a-1a804e0b21e6",
        "colab": {
          "base_uri": "https://localhost:8080/",
          "height": 170
        }
      },
      "source": [
        "y[1]"
      ],
      "execution_count": 24,
      "outputs": [
        {
          "output_type": "execute_result",
          "data": {
            "text/plain": [
              "array([ 3,  3,  3,  3,  3,  3,  3,  3,  3,  3,  3,  3,  3,  3,  3,  3,  3,\n",
              "        3, 11,  3,  3,  3,  3,  3,  3,  3,  3,  3,  3,  3,  3,  3,  3,  3,\n",
              "        3,  3,  3,  3,  3,  3,  3,  3,  3,  3,  3,  3,  3,  3, 11,  3,  3,\n",
              "        3,  3,  3,  3,  3,  3,  3,  3,  3,  3,  3,  3,  3,  3,  3,  3,  3,\n",
              "        3,  3,  3,  3,  3,  3,  3,  3,  3,  3,  3,  3,  3,  3,  3,  3,  3,\n",
              "        3,  3,  3,  3,  3,  3,  3,  3,  3,  3,  3,  3,  3,  3,  3,  3,  3,\n",
              "        3,  3,  3,  3,  3,  3,  3,  3,  3,  3,  3,  3,  3,  3,  3,  3,  3,\n",
              "        3,  3,  3,  3,  3,  3,  3,  3,  3,  3,  3,  3,  3,  3,  3,  3,  3,\n",
              "        3,  3,  3,  3], dtype=int32)"
            ]
          },
          "metadata": {
            "tags": []
          },
          "execution_count": 24
        }
      ]
    },
    {
      "cell_type": "code",
      "metadata": {
        "id": "WordpsyEkA5M",
        "outputId": "87b53a46-f5a7-494f-ea74-c27f9a5cb7de",
        "colab": {
          "base_uri": "https://localhost:8080/",
          "height": 289
        }
      },
      "source": [
        "X[1]"
      ],
      "execution_count": 25,
      "outputs": [
        {
          "output_type": "execute_result",
          "data": {
            "text/plain": [
              "array([17760,   984, 16021, 26140,  3511,  5153, 10230, 13312,  5153,\n",
              "       12179,  2298, 11714,  5480, 18696,  6111, 13305,  1833, 16351,\n",
              "       10361, 17944,   179, 18306, 16351, 12058, 16351, 25995,  5153,\n",
              "       22406, 11689, 16351, 17760,   984, 16021, 26140,  3511,  5153,\n",
              "       10230, 13312,  5153, 12179,  2298, 11714,  5480, 18696,  6111,\n",
              "       13305,  1833, 16351, 10361, 17944,   179, 18306, 16351, 12058,\n",
              "       16351, 25995,  5153, 22406, 11689, 16351, 27421, 27421, 27421,\n",
              "       27421, 27421, 27421, 27421, 27421, 27421, 27421, 27421, 27421,\n",
              "       27421, 27421, 27421, 27421, 27421, 27421, 27421, 27421, 27421,\n",
              "       27421, 27421, 27421, 27421, 27421, 27421, 27421, 27421, 27421,\n",
              "       27421, 27421, 27421, 27421, 27421, 27421, 27421, 27421, 27421,\n",
              "       27421, 27421, 27421, 27421, 27421, 27421, 27421, 27421, 27421,\n",
              "       27421, 27421, 27421, 27421, 27421, 27421, 27421, 27421, 27421,\n",
              "       27421, 27421, 27421, 27421, 27421, 27421, 27421, 27421, 27421,\n",
              "       27421, 27421, 27421, 27421, 27421, 27421, 27421, 27421, 27421,\n",
              "       27421, 27421, 27421, 27421, 27421], dtype=int32)"
            ]
          },
          "metadata": {
            "tags": []
          },
          "execution_count": 25
        }
      ]
    },
    {
      "cell_type": "markdown",
      "metadata": {
        "id": "h5IcBx94kMYN"
      },
      "source": [
        "**Data preperation for training**"
      ]
    },
    {
      "cell_type": "code",
      "metadata": {
        "id": "4-K61rPskIOy"
      },
      "source": [
        "from sklearn.model_selection import train_test_split\n",
        "X_train, X_test, y_train, y_test = train_test_split(X, y, test_size=0.20, random_state=0)"
      ],
      "execution_count": 26,
      "outputs": []
    },
    {
      "cell_type": "code",
      "metadata": {
        "id": "-WvspLhVkYyL",
        "outputId": "d32ed744-7765-4e7e-ac3c-c078584b8cbf",
        "colab": {
          "base_uri": "https://localhost:8080/",
          "height": 34
        }
      },
      "source": [
        "y_train = keras.utils.to_categorical(y_train)\n",
        "print(X_train.shape, y_train.shape)"
      ],
      "execution_count": 27,
      "outputs": [
        {
          "output_type": "stream",
          "text": [
            "(28141, 140) (28141, 140, 18)\n"
          ],
          "name": "stdout"
        }
      ]
    },
    {
      "cell_type": "markdown",
      "metadata": {
        "id": "INGdHTjG0Rrm"
      },
      "source": [
        "**Bidirectional LSTM model preperation and training**"
      ]
    },
    {
      "cell_type": "code",
      "metadata": {
        "id": "MPT29H5MkedZ",
        "outputId": "6549598e-9925-43b6-a19d-f14c54ecdad8",
        "colab": {
          "base_uri": "https://localhost:8080/",
          "height": 204
        }
      },
      "source": [
        "model = Sequential()\n",
        "\n",
        "model.add(Embedding(n_words, 50))\n",
        "model.add(Bidirectional(LSTM(140, return_sequences=True)))\n",
        "model.add(Bidirectional(LSTM(140, return_sequences=True)))\n",
        "model.add(TimeDistributed(Dense(n_tags, activation=\"softmax\")))\n",
        "model.compile(optimizer=\"adam\", loss=\"categorical_crossentropy\", metrics=[\"accuracy\"])\n",
        "model.fit(X_train, y_train, batch_size=150, epochs=5, verbose=1, validation_split=0.2)\n"
      ],
      "execution_count": 28,
      "outputs": [
        {
          "output_type": "stream",
          "text": [
            "Epoch 1/5\n",
            "151/151 [==============================] - 483s 3s/step - loss: 0.2601 - accuracy: 0.9611 - val_loss: 0.1460 - val_accuracy: 0.9674\n",
            "Epoch 2/5\n",
            "151/151 [==============================] - 475s 3s/step - loss: 0.1025 - accuracy: 0.9720 - val_loss: 0.0775 - val_accuracy: 0.9766\n",
            "Epoch 3/5\n",
            "151/151 [==============================] - 484s 3s/step - loss: 0.0645 - accuracy: 0.9802 - val_loss: 0.0612 - val_accuracy: 0.9826\n",
            "Epoch 4/5\n",
            "151/151 [==============================] - 480s 3s/step - loss: 0.0478 - accuracy: 0.9864 - val_loss: 0.0495 - val_accuracy: 0.9865\n",
            "Epoch 5/5\n",
            "151/151 [==============================] - 476s 3s/step - loss: 0.0345 - accuracy: 0.9904 - val_loss: 0.0552 - val_accuracy: 0.9839\n"
          ],
          "name": "stdout"
        },
        {
          "output_type": "execute_result",
          "data": {
            "text/plain": [
              "<tensorflow.python.keras.callbacks.History at 0x7efec9d577b8>"
            ]
          },
          "metadata": {
            "tags": []
          },
          "execution_count": 28
        }
      ]
    },
    {
      "cell_type": "markdown",
      "metadata": {
        "id": "M4KBxqB306mx"
      },
      "source": [
        "**Testing**"
      ]
    },
    {
      "cell_type": "code",
      "metadata": {
        "id": "Y5uvdazjzyPp"
      },
      "source": [
        "pred = model.predict(X_test)"
      ],
      "execution_count": 29,
      "outputs": []
    },
    {
      "cell_type": "markdown",
      "metadata": {
        "id": "Ls_ltE0F1nRW"
      },
      "source": [
        "**Visualizing test results**"
      ]
    },
    {
      "cell_type": "code",
      "metadata": {
        "id": "qaA-v5yQ1uLN",
        "outputId": "d5cb650f-cd0f-4f09-c319-7a2205729b1e",
        "colab": {
          "base_uri": "https://localhost:8080/",
          "height": 1000
        }
      },
      "source": [
        "i = 5\n",
        "p = model.predict(np.array([X_test[i]]))\n",
        "p = np.argmax(p, axis=-1)\n",
        "print(\"{:14} ({:5}): {}\".format(\"Word\", \"True\", \"Pred\"))\n",
        "for w,pred in zip(X_test[i],p[0]):\n",
        "    print(\"{:14}: {}\".format(words[w],tags[pred]))"
      ],
      "execution_count": 30,
      "outputs": [
        {
          "output_type": "stream",
          "text": [
            "Word           (True ): Pred\n",
            "the           : O\n",
            "u.s.          : B-geo\n",
            "official      : O\n",
            "stressed      : O\n",
            "the           : O\n",
            "only          : O\n",
            "way           : O\n",
            "to            : O\n",
            "successfully  : O\n",
            "counter       : O\n",
            "the           : O\n",
            "threat        : O\n",
            "is            : O\n",
            "to            : O\n",
            "learn         : O\n",
            "to            : O\n",
            "work          : O\n",
            "effectively   : O\n",
            "together      : O\n",
            ".             : O\n",
            "the           : O\n",
            "u.s.          : B-geo\n",
            "official      : O\n",
            "stressed      : O\n",
            "the           : O\n",
            "only          : O\n",
            "way           : O\n",
            "to            : O\n",
            "successfully  : O\n",
            "counter       : O\n",
            "the           : O\n",
            "threat        : O\n",
            "is            : O\n",
            "to            : O\n",
            "learn         : O\n",
            "to            : O\n",
            "work          : O\n",
            "effectively   : O\n",
            "together      : O\n",
            ".             : O\n",
            "pad           : O\n",
            "pad           : O\n",
            "pad           : O\n",
            "pad           : O\n",
            "pad           : O\n",
            "pad           : O\n",
            "pad           : O\n",
            "pad           : O\n",
            "pad           : O\n",
            "pad           : O\n",
            "pad           : O\n",
            "pad           : O\n",
            "pad           : O\n",
            "pad           : O\n",
            "pad           : O\n",
            "pad           : O\n",
            "pad           : O\n",
            "pad           : O\n",
            "pad           : O\n",
            "pad           : O\n",
            "pad           : O\n",
            "pad           : O\n",
            "pad           : O\n",
            "pad           : O\n",
            "pad           : O\n",
            "pad           : O\n",
            "pad           : O\n",
            "pad           : O\n",
            "pad           : O\n",
            "pad           : O\n",
            "pad           : O\n",
            "pad           : O\n",
            "pad           : O\n",
            "pad           : O\n",
            "pad           : O\n",
            "pad           : O\n",
            "pad           : O\n",
            "pad           : O\n",
            "pad           : O\n",
            "pad           : O\n",
            "pad           : O\n",
            "pad           : O\n",
            "pad           : O\n",
            "pad           : O\n",
            "pad           : O\n",
            "pad           : O\n",
            "pad           : O\n",
            "pad           : O\n",
            "pad           : O\n",
            "pad           : O\n",
            "pad           : O\n",
            "pad           : O\n",
            "pad           : O\n",
            "pad           : O\n",
            "pad           : O\n",
            "pad           : O\n",
            "pad           : O\n",
            "pad           : O\n",
            "pad           : O\n",
            "pad           : O\n",
            "pad           : O\n",
            "pad           : O\n",
            "pad           : O\n",
            "pad           : O\n",
            "pad           : O\n",
            "pad           : O\n",
            "pad           : O\n",
            "pad           : O\n",
            "pad           : O\n",
            "pad           : O\n",
            "pad           : O\n",
            "pad           : O\n",
            "pad           : O\n",
            "pad           : O\n",
            "pad           : O\n",
            "pad           : O\n",
            "pad           : O\n",
            "pad           : O\n",
            "pad           : O\n",
            "pad           : O\n",
            "pad           : O\n",
            "pad           : O\n",
            "pad           : O\n",
            "pad           : O\n",
            "pad           : O\n",
            "pad           : O\n",
            "pad           : O\n",
            "pad           : O\n",
            "pad           : O\n",
            "pad           : O\n",
            "pad           : O\n",
            "pad           : O\n",
            "pad           : O\n",
            "pad           : O\n",
            "pad           : O\n",
            "pad           : O\n",
            "pad           : O\n",
            "pad           : O\n",
            "pad           : O\n",
            "pad           : O\n"
          ],
          "name": "stdout"
        }
      ]
    },
    {
      "cell_type": "code",
      "metadata": {
        "id": "5TCmcqBu2EUI",
        "outputId": "9f97ba27-01d1-4e56-f291-e621c70193da",
        "colab": {
          "base_uri": "https://localhost:8080/",
          "height": 289
        }
      },
      "source": [
        "model.summary()"
      ],
      "execution_count": 31,
      "outputs": [
        {
          "output_type": "stream",
          "text": [
            "Model: \"sequential\"\n",
            "_________________________________________________________________\n",
            "Layer (type)                 Output Shape              Param #   \n",
            "=================================================================\n",
            "embedding (Embedding)        (None, None, 50)          1371100   \n",
            "_________________________________________________________________\n",
            "bidirectional (Bidirectional (None, None, 280)         213920    \n",
            "_________________________________________________________________\n",
            "bidirectional_1 (Bidirection (None, None, 280)         471520    \n",
            "_________________________________________________________________\n",
            "time_distributed (TimeDistri (None, None, 18)          5058      \n",
            "=================================================================\n",
            "Total params: 2,061,598\n",
            "Trainable params: 2,061,598\n",
            "Non-trainable params: 0\n",
            "_________________________________________________________________\n"
          ],
          "name": "stdout"
        }
      ]
    },
    {
      "cell_type": "code",
      "metadata": {
        "id": "z3hsJe8M2VzA"
      },
      "source": [
        "# input = Input(shape=(140,))\n",
        "# model = Embedding(n_words, 50)(input)\n",
        "# model = Bidirectional(LSTM(units=140, return_sequences=True))(model)\n",
        "# model = Bidirectional(LSTM(units=140, return_sequences=True))(model)\n",
        "# # reshape = keras.layers.Reshape((-1, 140, 1))(model)\n",
        "\n",
        "# out = TimeDistributed(Dense(18, activation=\"softmax\"))(model)  # softmax output layer\n",
        "# model = Model(input, out)\n",
        "\n",
        "# model.compile(optimizer=\"adam\", loss=\"categorical_crossentropy\", metrics=[\"accuracy\"])\n",
        "\n",
        "# model.fit(X_train, y_train, batch_size=150, epochs=1, verbose=1)"
      ],
      "execution_count": null,
      "outputs": []
    }
  ]
}